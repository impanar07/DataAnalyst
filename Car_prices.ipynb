{
 "cells": [
  {
   "cell_type": "code",
   "execution_count": 1,
   "id": "e66c7b85-30e2-439b-a616-5622740dec1e",
   "metadata": {},
   "outputs": [],
   "source": [
    "import pandas as pd"
   ]
  },
  {
   "cell_type": "code",
   "execution_count": 3,
   "id": "8cea43eb-64f0-4320-9e46-59bc7eee46ba",
   "metadata": {},
   "outputs": [
    {
     "data": {
      "text/html": [
       "<div>\n",
       "<style scoped>\n",
       "    .dataframe tbody tr th:only-of-type {\n",
       "        vertical-align: middle;\n",
       "    }\n",
       "\n",
       "    .dataframe tbody tr th {\n",
       "        vertical-align: top;\n",
       "    }\n",
       "\n",
       "    .dataframe thead th {\n",
       "        text-align: right;\n",
       "    }\n",
       "</style>\n",
       "<table border=\"1\" class=\"dataframe\">\n",
       "  <thead>\n",
       "    <tr style=\"text-align: right;\">\n",
       "      <th></th>\n",
       "      <th>year</th>\n",
       "      <th>make</th>\n",
       "      <th>model</th>\n",
       "      <th>trim</th>\n",
       "      <th>body</th>\n",
       "      <th>transmission</th>\n",
       "      <th>vin</th>\n",
       "      <th>state</th>\n",
       "      <th>condition</th>\n",
       "      <th>odometer</th>\n",
       "      <th>color</th>\n",
       "      <th>interior</th>\n",
       "      <th>seller</th>\n",
       "      <th>mmr</th>\n",
       "      <th>sellingprice</th>\n",
       "      <th>saledate</th>\n",
       "    </tr>\n",
       "  </thead>\n",
       "  <tbody>\n",
       "    <tr>\n",
       "      <th>0</th>\n",
       "      <td>2015</td>\n",
       "      <td>Kia</td>\n",
       "      <td>Sorento</td>\n",
       "      <td>LX</td>\n",
       "      <td>SUV</td>\n",
       "      <td>automatic</td>\n",
       "      <td>5xyktca69fg566472</td>\n",
       "      <td>ca</td>\n",
       "      <td>5.0</td>\n",
       "      <td>16639.0</td>\n",
       "      <td>white</td>\n",
       "      <td>black</td>\n",
       "      <td>kia motors america  inc</td>\n",
       "      <td>20500.0</td>\n",
       "      <td>21500.0</td>\n",
       "      <td>Tue Dec 16 2014 12:30:00 GMT-0800 (PST)</td>\n",
       "    </tr>\n",
       "    <tr>\n",
       "      <th>1</th>\n",
       "      <td>2015</td>\n",
       "      <td>Kia</td>\n",
       "      <td>Sorento</td>\n",
       "      <td>LX</td>\n",
       "      <td>SUV</td>\n",
       "      <td>automatic</td>\n",
       "      <td>5xyktca69fg561319</td>\n",
       "      <td>ca</td>\n",
       "      <td>5.0</td>\n",
       "      <td>9393.0</td>\n",
       "      <td>white</td>\n",
       "      <td>beige</td>\n",
       "      <td>kia motors america  inc</td>\n",
       "      <td>20800.0</td>\n",
       "      <td>21500.0</td>\n",
       "      <td>Tue Dec 16 2014 12:30:00 GMT-0800 (PST)</td>\n",
       "    </tr>\n",
       "    <tr>\n",
       "      <th>2</th>\n",
       "      <td>2014</td>\n",
       "      <td>BMW</td>\n",
       "      <td>3 Series</td>\n",
       "      <td>328i SULEV</td>\n",
       "      <td>Sedan</td>\n",
       "      <td>automatic</td>\n",
       "      <td>wba3c1c51ek116351</td>\n",
       "      <td>ca</td>\n",
       "      <td>45.0</td>\n",
       "      <td>1331.0</td>\n",
       "      <td>gray</td>\n",
       "      <td>black</td>\n",
       "      <td>financial services remarketing (lease)</td>\n",
       "      <td>31900.0</td>\n",
       "      <td>30000.0</td>\n",
       "      <td>Thu Jan 15 2015 04:30:00 GMT-0800 (PST)</td>\n",
       "    </tr>\n",
       "    <tr>\n",
       "      <th>3</th>\n",
       "      <td>2015</td>\n",
       "      <td>Volvo</td>\n",
       "      <td>S60</td>\n",
       "      <td>T5</td>\n",
       "      <td>Sedan</td>\n",
       "      <td>automatic</td>\n",
       "      <td>yv1612tb4f1310987</td>\n",
       "      <td>ca</td>\n",
       "      <td>41.0</td>\n",
       "      <td>14282.0</td>\n",
       "      <td>white</td>\n",
       "      <td>black</td>\n",
       "      <td>volvo na rep/world omni</td>\n",
       "      <td>27500.0</td>\n",
       "      <td>27750.0</td>\n",
       "      <td>Thu Jan 29 2015 04:30:00 GMT-0800 (PST)</td>\n",
       "    </tr>\n",
       "    <tr>\n",
       "      <th>4</th>\n",
       "      <td>2014</td>\n",
       "      <td>BMW</td>\n",
       "      <td>6 Series Gran Coupe</td>\n",
       "      <td>650i</td>\n",
       "      <td>Sedan</td>\n",
       "      <td>automatic</td>\n",
       "      <td>wba6b2c57ed129731</td>\n",
       "      <td>ca</td>\n",
       "      <td>43.0</td>\n",
       "      <td>2641.0</td>\n",
       "      <td>gray</td>\n",
       "      <td>black</td>\n",
       "      <td>financial services remarketing (lease)</td>\n",
       "      <td>66000.0</td>\n",
       "      <td>67000.0</td>\n",
       "      <td>Thu Dec 18 2014 12:30:00 GMT-0800 (PST)</td>\n",
       "    </tr>\n",
       "  </tbody>\n",
       "</table>\n",
       "</div>"
      ],
      "text/plain": [
       "   year   make                model        trim   body transmission  \\\n",
       "0  2015    Kia              Sorento          LX    SUV    automatic   \n",
       "1  2015    Kia              Sorento          LX    SUV    automatic   \n",
       "2  2014    BMW             3 Series  328i SULEV  Sedan    automatic   \n",
       "3  2015  Volvo                  S60          T5  Sedan    automatic   \n",
       "4  2014    BMW  6 Series Gran Coupe        650i  Sedan    automatic   \n",
       "\n",
       "                 vin state  condition  odometer  color interior  \\\n",
       "0  5xyktca69fg566472    ca        5.0   16639.0  white    black   \n",
       "1  5xyktca69fg561319    ca        5.0    9393.0  white    beige   \n",
       "2  wba3c1c51ek116351    ca       45.0    1331.0   gray    black   \n",
       "3  yv1612tb4f1310987    ca       41.0   14282.0  white    black   \n",
       "4  wba6b2c57ed129731    ca       43.0    2641.0   gray    black   \n",
       "\n",
       "                                   seller      mmr  sellingprice  \\\n",
       "0                 kia motors america  inc  20500.0       21500.0   \n",
       "1                 kia motors america  inc  20800.0       21500.0   \n",
       "2  financial services remarketing (lease)  31900.0       30000.0   \n",
       "3                 volvo na rep/world omni  27500.0       27750.0   \n",
       "4  financial services remarketing (lease)  66000.0       67000.0   \n",
       "\n",
       "                                  saledate  \n",
       "0  Tue Dec 16 2014 12:30:00 GMT-0800 (PST)  \n",
       "1  Tue Dec 16 2014 12:30:00 GMT-0800 (PST)  \n",
       "2  Thu Jan 15 2015 04:30:00 GMT-0800 (PST)  \n",
       "3  Thu Jan 29 2015 04:30:00 GMT-0800 (PST)  \n",
       "4  Thu Dec 18 2014 12:30:00 GMT-0800 (PST)  "
      ]
     },
     "execution_count": 3,
     "metadata": {},
     "output_type": "execute_result"
    }
   ],
   "source": [
    "df = pd.read_csv('car_prices.csv')\n",
    "df.head()"
   ]
  },
  {
   "cell_type": "code",
   "execution_count": 5,
   "id": "3fe02ad9-2b35-49c6-8daf-341a8ad49601",
   "metadata": {},
   "outputs": [
    {
     "data": {
      "text/plain": [
       "(558837, 16)"
      ]
     },
     "execution_count": 5,
     "metadata": {},
     "output_type": "execute_result"
    }
   ],
   "source": [
    "df.shape"
   ]
  },
  {
   "cell_type": "code",
   "execution_count": 61,
   "id": "c7b95032-20cb-49ce-bdd7-71630f62ab0a",
   "metadata": {},
   "outputs": [
    {
     "name": "stdout",
     "output_type": "stream",
     "text": [
      "<class 'pandas.core.frame.DataFrame'>\n",
      "Index: 558811 entries, 0 to 558836\n",
      "Data columns (total 16 columns):\n",
      " #   Column        Non-Null Count   Dtype  \n",
      "---  ------        --------------   -----  \n",
      " 0   year          558811 non-null  int64  \n",
      " 1   make          558811 non-null  object \n",
      " 2   model         558811 non-null  object \n",
      " 3   trim          558811 non-null  object \n",
      " 4   body          558811 non-null  object \n",
      " 5   transmission  558811 non-null  object \n",
      " 6   vin           558811 non-null  object \n",
      " 7   state         558811 non-null  object \n",
      " 8   condition     558811 non-null  float64\n",
      " 9   odometer      558811 non-null  float64\n",
      " 10  color         558811 non-null  object \n",
      " 11  interior      558811 non-null  object \n",
      " 12  seller        558811 non-null  object \n",
      " 13  mmr           558811 non-null  float64\n",
      " 14  sellingprice  558811 non-null  float64\n",
      " 15  saledate      558811 non-null  object \n",
      "dtypes: float64(4), int64(1), object(11)\n",
      "memory usage: 72.5+ MB\n"
     ]
    }
   ],
   "source": [
    "df.info()"
   ]
  },
  {
   "cell_type": "code",
   "execution_count": 7,
   "id": "d2e83b01-6ab8-4be7-aef6-6541935c1345",
   "metadata": {},
   "outputs": [
    {
     "data": {
      "text/plain": [
       "Index(['year', 'make', 'model', 'trim', 'body', 'transmission', 'vin', 'state',\n",
       "       'condition', 'odometer', 'color', 'interior', 'seller', 'mmr',\n",
       "       'sellingprice', 'saledate'],\n",
       "      dtype='object')"
      ]
     },
     "execution_count": 7,
     "metadata": {},
     "output_type": "execute_result"
    }
   ],
   "source": [
    "df.columns"
   ]
  },
  {
   "cell_type": "code",
   "execution_count": 9,
   "id": "766a6870-1692-4dd3-85ec-47b794ca6af8",
   "metadata": {},
   "outputs": [
    {
     "data": {
      "text/html": [
       "<div>\n",
       "<style scoped>\n",
       "    .dataframe tbody tr th:only-of-type {\n",
       "        vertical-align: middle;\n",
       "    }\n",
       "\n",
       "    .dataframe tbody tr th {\n",
       "        vertical-align: top;\n",
       "    }\n",
       "\n",
       "    .dataframe thead th {\n",
       "        text-align: right;\n",
       "    }\n",
       "</style>\n",
       "<table border=\"1\" class=\"dataframe\">\n",
       "  <thead>\n",
       "    <tr style=\"text-align: right;\">\n",
       "      <th></th>\n",
       "      <th>year</th>\n",
       "      <th>condition</th>\n",
       "      <th>odometer</th>\n",
       "      <th>mmr</th>\n",
       "      <th>sellingprice</th>\n",
       "    </tr>\n",
       "  </thead>\n",
       "  <tbody>\n",
       "    <tr>\n",
       "      <th>count</th>\n",
       "      <td>558837.000000</td>\n",
       "      <td>547017.000000</td>\n",
       "      <td>558743.000000</td>\n",
       "      <td>558799.000000</td>\n",
       "      <td>558825.000000</td>\n",
       "    </tr>\n",
       "    <tr>\n",
       "      <th>mean</th>\n",
       "      <td>2010.038927</td>\n",
       "      <td>30.672365</td>\n",
       "      <td>68320.017767</td>\n",
       "      <td>13769.377495</td>\n",
       "      <td>13611.358810</td>\n",
       "    </tr>\n",
       "    <tr>\n",
       "      <th>std</th>\n",
       "      <td>3.966864</td>\n",
       "      <td>13.402832</td>\n",
       "      <td>53398.542821</td>\n",
       "      <td>9679.967174</td>\n",
       "      <td>9749.501628</td>\n",
       "    </tr>\n",
       "    <tr>\n",
       "      <th>min</th>\n",
       "      <td>1982.000000</td>\n",
       "      <td>1.000000</td>\n",
       "      <td>1.000000</td>\n",
       "      <td>25.000000</td>\n",
       "      <td>1.000000</td>\n",
       "    </tr>\n",
       "    <tr>\n",
       "      <th>25%</th>\n",
       "      <td>2007.000000</td>\n",
       "      <td>23.000000</td>\n",
       "      <td>28371.000000</td>\n",
       "      <td>7100.000000</td>\n",
       "      <td>6900.000000</td>\n",
       "    </tr>\n",
       "    <tr>\n",
       "      <th>50%</th>\n",
       "      <td>2012.000000</td>\n",
       "      <td>35.000000</td>\n",
       "      <td>52254.000000</td>\n",
       "      <td>12250.000000</td>\n",
       "      <td>12100.000000</td>\n",
       "    </tr>\n",
       "    <tr>\n",
       "      <th>75%</th>\n",
       "      <td>2013.000000</td>\n",
       "      <td>42.000000</td>\n",
       "      <td>99109.000000</td>\n",
       "      <td>18300.000000</td>\n",
       "      <td>18200.000000</td>\n",
       "    </tr>\n",
       "    <tr>\n",
       "      <th>max</th>\n",
       "      <td>2015.000000</td>\n",
       "      <td>49.000000</td>\n",
       "      <td>999999.000000</td>\n",
       "      <td>182000.000000</td>\n",
       "      <td>230000.000000</td>\n",
       "    </tr>\n",
       "  </tbody>\n",
       "</table>\n",
       "</div>"
      ],
      "text/plain": [
       "                year      condition       odometer            mmr  \\\n",
       "count  558837.000000  547017.000000  558743.000000  558799.000000   \n",
       "mean     2010.038927      30.672365   68320.017767   13769.377495   \n",
       "std         3.966864      13.402832   53398.542821    9679.967174   \n",
       "min      1982.000000       1.000000       1.000000      25.000000   \n",
       "25%      2007.000000      23.000000   28371.000000    7100.000000   \n",
       "50%      2012.000000      35.000000   52254.000000   12250.000000   \n",
       "75%      2013.000000      42.000000   99109.000000   18300.000000   \n",
       "max      2015.000000      49.000000  999999.000000  182000.000000   \n",
       "\n",
       "        sellingprice  \n",
       "count  558825.000000  \n",
       "mean    13611.358810  \n",
       "std      9749.501628  \n",
       "min         1.000000  \n",
       "25%      6900.000000  \n",
       "50%     12100.000000  \n",
       "75%     18200.000000  \n",
       "max    230000.000000  "
      ]
     },
     "execution_count": 9,
     "metadata": {},
     "output_type": "execute_result"
    }
   ],
   "source": [
    "df.describe()"
   ]
  },
  {
   "cell_type": "code",
   "execution_count": 11,
   "id": "9a97d25d-1908-46e8-b79c-4c8b59c9e8c5",
   "metadata": {},
   "outputs": [
    {
     "data": {
      "text/plain": [
       "year             0.000000\n",
       "make             1.843292\n",
       "model            1.860829\n",
       "trim             1.905922\n",
       "body             2.361154\n",
       "transmission    11.694287\n",
       "vin              0.000716\n",
       "state            0.000000\n",
       "condition        2.115107\n",
       "odometer         0.016821\n",
       "color            0.134028\n",
       "interior         0.134028\n",
       "seller           0.000000\n",
       "mmr              0.006800\n",
       "sellingprice     0.002147\n",
       "saledate         0.002147\n",
       "dtype: float64"
      ]
     },
     "execution_count": 11,
     "metadata": {},
     "output_type": "execute_result"
    }
   ],
   "source": [
    "(df.isnull().sum()/len(df))*100"
   ]
  },
  {
   "cell_type": "code",
   "execution_count": 15,
   "id": "31dc5bf5-ea00-47b5-8d2d-2a4482a893bb",
   "metadata": {},
   "outputs": [
    {
     "data": {
      "text/plain": [
       "year             2012.0\n",
       "condition          35.0\n",
       "odometer        52254.0\n",
       "mmr             12250.0\n",
       "sellingprice    12100.0\n",
       "dtype: float64"
      ]
     },
     "execution_count": 15,
     "metadata": {},
     "output_type": "execute_result"
    }
   ],
   "source": [
    "df.median(numeric_only=True)"
   ]
  },
  {
   "cell_type": "code",
   "execution_count": 17,
   "id": "bd0dfb0b-c8bf-46cc-86c5-3afe6459286a",
   "metadata": {},
   "outputs": [
    {
     "data": {
      "text/plain": [
       "year             2010.038927\n",
       "condition          30.672365\n",
       "odometer        68320.017767\n",
       "mmr             13769.377495\n",
       "sellingprice    13611.358810\n",
       "dtype: float64"
      ]
     },
     "execution_count": 17,
     "metadata": {},
     "output_type": "execute_result"
    }
   ],
   "source": [
    "df.mean(numeric_only=True)"
   ]
  },
  {
   "cell_type": "code",
   "execution_count": 19,
   "id": "7c6c2fcc-33ad-4a76-8dc3-5e7c98621edc",
   "metadata": {},
   "outputs": [],
   "source": [
    "df['condition'] = df['condition'].fillna(df['condition'].median())\n",
    "df['odometer'] = df['odometer'].fillna(df['odometer'].median())\n",
    "df['mmr'] = df['mmr'].fillna(df['mmr'].median())\n",
    "df['sellingprice'] = df['sellingprice'].fillna(df['sellingprice'].median())\n"
   ]
  },
  {
   "cell_type": "code",
   "execution_count": 21,
   "id": "1053b1f7-6851-46b3-b0dc-55e7d1bc2a92",
   "metadata": {},
   "outputs": [
    {
     "data": {
      "text/plain": [
       "year             0.000000\n",
       "make             1.843292\n",
       "model            1.860829\n",
       "trim             1.905922\n",
       "body             2.361154\n",
       "transmission    11.694287\n",
       "vin              0.000716\n",
       "state            0.000000\n",
       "condition        0.000000\n",
       "odometer         0.000000\n",
       "color            0.134028\n",
       "interior         0.134028\n",
       "seller           0.000000\n",
       "mmr              0.000000\n",
       "sellingprice     0.000000\n",
       "saledate         0.002147\n",
       "dtype: float64"
      ]
     },
     "execution_count": 21,
     "metadata": {},
     "output_type": "execute_result"
    }
   ],
   "source": [
    "(df.isnull().sum()/len(df))*100"
   ]
  },
  {
   "cell_type": "code",
   "execution_count": 23,
   "id": "a58c71e1-5f18-498d-914e-f29938b1e098",
   "metadata": {},
   "outputs": [],
   "source": [
    "df['make'] = df['make'].fillna(df['make'].mode()[0])"
   ]
  },
  {
   "cell_type": "code",
   "execution_count": 25,
   "id": "40fe1f8a-a498-468b-b6bc-79168bd3b163",
   "metadata": {},
   "outputs": [],
   "source": [
    "df['model'] = df['model'].fillna(df['model'].mode()[0])"
   ]
  },
  {
   "cell_type": "code",
   "execution_count": 27,
   "id": "29b844ec-4321-433a-87fb-a45bc36eb9b6",
   "metadata": {},
   "outputs": [],
   "source": [
    "df['trim'] = df['trim'].fillna(df['trim'].mode()[0])\n"
   ]
  },
  {
   "cell_type": "code",
   "execution_count": 29,
   "id": "f884e47e-eb5e-4641-a446-4be042f1d090",
   "metadata": {},
   "outputs": [],
   "source": [
    "df['body'] = df['body'].fillna(df['body'].mode()[0])"
   ]
  },
  {
   "cell_type": "code",
   "execution_count": 31,
   "id": "872d5ca7-c62d-4dd0-a607-c219d00691f6",
   "metadata": {},
   "outputs": [],
   "source": [
    "df['transmission'] = df['transmission'].fillna(df['transmission'].mode()[0])"
   ]
  },
  {
   "cell_type": "code",
   "execution_count": 33,
   "id": "3cc27220-2b21-482e-8eda-24bfc520aec0",
   "metadata": {},
   "outputs": [],
   "source": [
    "df['vin'] = df['vin'].fillna(df['vin'].mode()[0])"
   ]
  },
  {
   "cell_type": "code",
   "execution_count": 35,
   "id": "4f459008-4538-448c-b328-02d8333b8364",
   "metadata": {},
   "outputs": [],
   "source": [
    "df['color'] = df['color'].fillna(df['color'].mode()[0])"
   ]
  },
  {
   "cell_type": "code",
   "execution_count": 37,
   "id": "a2ab7f21-d2ff-40e7-a5e9-6afe894db81a",
   "metadata": {},
   "outputs": [],
   "source": [
    "df['interior'] = df['interior'].fillna(df['interior'].mode()[0])"
   ]
  },
  {
   "cell_type": "code",
   "execution_count": 39,
   "id": "76a1313f-7203-4e77-9b82-359d5fe26a19",
   "metadata": {},
   "outputs": [],
   "source": [
    "df['saledate'] = df['saledate'].fillna(df['saledate'].mode()[0])"
   ]
  },
  {
   "cell_type": "code",
   "execution_count": 41,
   "id": "ea8c41c3-5b68-440c-9219-e49f1cefe056",
   "metadata": {},
   "outputs": [
    {
     "data": {
      "text/plain": [
       "year            0.0\n",
       "make            0.0\n",
       "model           0.0\n",
       "trim            0.0\n",
       "body            0.0\n",
       "transmission    0.0\n",
       "vin             0.0\n",
       "state           0.0\n",
       "condition       0.0\n",
       "odometer        0.0\n",
       "color           0.0\n",
       "interior        0.0\n",
       "seller          0.0\n",
       "mmr             0.0\n",
       "sellingprice    0.0\n",
       "saledate        0.0\n",
       "dtype: float64"
      ]
     },
     "execution_count": 41,
     "metadata": {},
     "output_type": "execute_result"
    }
   ],
   "source": [
    "(df.isnull().sum()/len(df))*100\n"
   ]
  },
  {
   "cell_type": "code",
   "execution_count": 43,
   "id": "7b6f831b-1e35-4fd0-aa9b-c2327e0ca2bf",
   "metadata": {},
   "outputs": [
    {
     "name": "stderr",
     "output_type": "stream",
     "text": [
      "C:\\Users\\Impana\\AppData\\Local\\Temp\\ipykernel_21268\\3064755654.py:1: UserWarning: Could not infer format, so each element will be parsed individually, falling back to `dateutil`. To ensure parsing is consistent and as-expected, please specify a format.\n",
      "  df['saledate'] = pd.to_datetime(df['saledate'],errors = 'coerce')\n",
      "C:\\Users\\Impana\\AppData\\Local\\Temp\\ipykernel_21268\\3064755654.py:1: FutureWarning: In a future version of pandas, parsing datetimes with mixed time zones will raise an error unless `utc=True`. Please specify `utc=True` to opt in to the new behaviour and silence this warning. To create a `Series` with mixed offsets and `object` dtype, please use `apply` and `datetime.datetime.strptime`\n",
      "  df['saledate'] = pd.to_datetime(df['saledate'],errors = 'coerce')\n"
     ]
    }
   ],
   "source": [
    "df['saledate'] = pd.to_datetime(df['saledate'],errors = 'coerce')"
   ]
  },
  {
   "cell_type": "code",
   "execution_count": 45,
   "id": "e6147baf-8a16-4c7d-b3c1-1242d90ccfd9",
   "metadata": {},
   "outputs": [
    {
     "data": {
      "text/plain": [
       "0         2014-12-16 12:30:00+08:00\n",
       "1         2014-12-16 12:30:00+08:00\n",
       "2         2015-01-15 04:30:00+08:00\n",
       "3         2015-01-29 04:30:00+08:00\n",
       "4         2014-12-18 12:30:00+08:00\n",
       "                    ...            \n",
       "558832    2015-07-09 07:00:00+07:00\n",
       "558833    2015-07-08 09:30:00+07:00\n",
       "558834    2015-07-08 09:30:00+07:00\n",
       "558835    2015-07-09 06:45:00+07:00\n",
       "558836    2015-05-28 05:30:00+07:00\n",
       "Name: saledate, Length: 558837, dtype: object"
      ]
     },
     "execution_count": 45,
     "metadata": {},
     "output_type": "execute_result"
    }
   ],
   "source": [
    "df['saledate']"
   ]
  },
  {
   "cell_type": "code",
   "execution_count": 47,
   "id": "858b4de1-b2cd-4e24-a6f2-16084a7f9472",
   "metadata": {},
   "outputs": [],
   "source": [
    "df = df.dropna(subset=['vin', 'sellingprice', 'saledate'])"
   ]
  },
  {
   "cell_type": "code",
   "execution_count": 49,
   "id": "1ce0c33a-ef58-45c7-990e-c1ae1199118d",
   "metadata": {},
   "outputs": [],
   "source": [
    "df = df.dropna(subset=['saledate'])"
   ]
  },
  {
   "cell_type": "code",
   "execution_count": 53,
   "id": "03514b37-cb2c-41b9-b10e-9a168d669cf1",
   "metadata": {},
   "outputs": [
    {
     "data": {
      "text/plain": [
       "0"
      ]
     },
     "execution_count": 53,
     "metadata": {},
     "output_type": "execute_result"
    }
   ],
   "source": [
    "df.duplicated().sum()"
   ]
  },
  {
   "cell_type": "code",
   "execution_count": 55,
   "id": "42868bea-6f8f-4b5d-a67f-94ec32dc1eca",
   "metadata": {},
   "outputs": [],
   "source": [
    "df.drop_duplicates(inplace=True)"
   ]
  },
  {
   "cell_type": "code",
   "execution_count": 57,
   "id": "c4fa8d22-e9c8-4eab-9980-fe39781066d1",
   "metadata": {},
   "outputs": [],
   "source": [
    "text_cols = ['make', 'model', 'trim', 'body', 'transmission', 'color', 'interior', 'state', 'seller']\n",
    "df[text_cols] = df[text_cols].apply(lambda x: x.str.lower())"
   ]
  },
  {
   "cell_type": "code",
   "execution_count": 63,
   "id": "b508abc2-9f7e-4457-b0c4-e4dddf00e53d",
   "metadata": {},
   "outputs": [],
   "source": [
    "df.reset_index(drop=True, inplace=True)"
   ]
  },
  {
   "cell_type": "code",
   "execution_count": 65,
   "id": "e3b2bc66-684e-406a-a56e-2af105c8b096",
   "metadata": {},
   "outputs": [
    {
     "name": "stdout",
     "output_type": "stream",
     "text": [
      "<class 'pandas.core.frame.DataFrame'>\n",
      "RangeIndex: 558811 entries, 0 to 558810\n",
      "Data columns (total 16 columns):\n",
      " #   Column        Non-Null Count   Dtype  \n",
      "---  ------        --------------   -----  \n",
      " 0   year          558811 non-null  int64  \n",
      " 1   make          558811 non-null  object \n",
      " 2   model         558811 non-null  object \n",
      " 3   trim          558811 non-null  object \n",
      " 4   body          558811 non-null  object \n",
      " 5   transmission  558811 non-null  object \n",
      " 6   vin           558811 non-null  object \n",
      " 7   state         558811 non-null  object \n",
      " 8   condition     558811 non-null  float64\n",
      " 9   odometer      558811 non-null  float64\n",
      " 10  color         558811 non-null  object \n",
      " 11  interior      558811 non-null  object \n",
      " 12  seller        558811 non-null  object \n",
      " 13  mmr           558811 non-null  float64\n",
      " 14  sellingprice  558811 non-null  float64\n",
      " 15  saledate      558811 non-null  object \n",
      "dtypes: float64(4), int64(1), object(11)\n",
      "memory usage: 68.2+ MB\n"
     ]
    }
   ],
   "source": [
    "df.info()"
   ]
  },
  {
   "cell_type": "code",
   "execution_count": 67,
   "id": "3a6e2de4-fc2f-44c4-b2c3-de5c9d2fa22f",
   "metadata": {},
   "outputs": [],
   "source": [
    "# Example: Converting 'date_of_birth' to datetime if the column exists\n",
    "if 'saledate' in df.columns:\n",
    "    df['saledate'] = pd.to_datetime(df['saledate'], errors='coerce', dayfirst=True)"
   ]
  },
  {
   "cell_type": "code",
   "execution_count": 69,
   "id": "ce3ede1d-85a1-4de5-aa29-aae1becafe5d",
   "metadata": {},
   "outputs": [
    {
     "name": "stdout",
     "output_type": "stream",
     "text": [
      "<class 'pandas.core.frame.DataFrame'>\n",
      "RangeIndex: 558811 entries, 0 to 558810\n",
      "Data columns (total 16 columns):\n",
      " #   Column        Non-Null Count   Dtype                                 \n",
      "---  ------        --------------   -----                                 \n",
      " 0   year          558811 non-null  int64                                 \n",
      " 1   make          558811 non-null  object                                \n",
      " 2   model         558811 non-null  object                                \n",
      " 3   trim          558811 non-null  object                                \n",
      " 4   body          558811 non-null  object                                \n",
      " 5   transmission  558811 non-null  object                                \n",
      " 6   vin           558811 non-null  object                                \n",
      " 7   state         558811 non-null  object                                \n",
      " 8   condition     558811 non-null  float64                               \n",
      " 9   odometer      558811 non-null  float64                               \n",
      " 10  color         558811 non-null  object                                \n",
      " 11  interior      558811 non-null  object                                \n",
      " 12  seller        558811 non-null  object                                \n",
      " 13  mmr           558811 non-null  float64                               \n",
      " 14  sellingprice  558811 non-null  float64                               \n",
      " 15  saledate      395501 non-null  datetime64[ns, tzoffset('PST', 28800)]\n",
      "dtypes: datetime64[ns, tzoffset('PST', 28800)](1), float64(4), int64(1), object(10)\n",
      "memory usage: 68.2+ MB\n"
     ]
    }
   ],
   "source": [
    "df.info()"
   ]
  },
  {
   "cell_type": "code",
   "execution_count": null,
   "id": "1360ae41-b839-4b67-bfa5-ac75e095e698",
   "metadata": {},
   "outputs": [],
   "source": []
  }
 ],
 "metadata": {
  "kernelspec": {
   "display_name": "Python [conda env:base] *",
   "language": "python",
   "name": "conda-base-py"
  },
  "language_info": {
   "codemirror_mode": {
    "name": "ipython",
    "version": 3
   },
   "file_extension": ".py",
   "mimetype": "text/x-python",
   "name": "python",
   "nbconvert_exporter": "python",
   "pygments_lexer": "ipython3",
   "version": "3.12.7"
  }
 },
 "nbformat": 4,
 "nbformat_minor": 5
}
